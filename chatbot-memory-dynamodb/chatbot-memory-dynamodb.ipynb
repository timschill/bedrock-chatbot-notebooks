{
 "cells": [
  {
   "cell_type": "markdown",
   "metadata": {},
   "source": [
    "## Store the memory in DynamoDB\n",
    "We can store previous conversation in DynamoDB to preserve state in our application. We do this with the help of LangChains \"DynamoDBChatMessageHistory\" module."
   ]
  },
  {
   "cell_type": "code",
   "execution_count": null,
   "metadata": {
    "vscode": {
     "languageId": "plaintext"
    }
   },
   "outputs": [],
   "source": [
    "session = boto3.session.Session(profile_name=\"bedrock\")\n",
    "dynamodb = session.resource(\"dynamodb\")\n",
    "table_name = \"chatbot-memory-sessions\"\n",
    "\n",
    "table = dynamodb.create_table(\n",
    "    TableName = table_name,\n",
    "    KeySchema = [{\"AttributeName\": \"SessionId\", \"KeyType\": \"HASH\"}],\n",
    "    AttributeDefinitions = [{\"AttributeName\": \"SessionId\", \"AttributeType\": \"S\"}],\n",
    "    BillingMode = \"PAY_PER_REQUEST\",\n",
    ")"
   ]
  },
  {
   "cell_type": "markdown",
   "metadata": {},
   "source": [
    "#### LangChain setup\n",
    "We import the module, configure our memory and provide it a session id."
   ]
  },
  {
   "cell_type": "code",
   "execution_count": null,
   "metadata": {
    "vscode": {
     "languageId": "plaintext"
    }
   },
   "outputs": [],
   "source": [
    "bedrock_runtime = boto3.client(\n",
    "        service_name=\"bedrock-runtime\",\n",
    "        region_name=\"us-east-1\",\n",
    ")\n",
    "\n",
    "model_kwargs = {\n",
    "    \"max_tokens_to_sample\": 300,\n",
    "    \"temperature\": 0.5,\n",
    "    \"top_p\": 0.5\n",
    "}\n",
    "\n",
    "chat = Bedrock(\n",
    "    credentials_profile_name=\"bedrock\",\n",
    "    model_id=\"anthropic.claude-v2\",\n",
    "    model_kwargs=model_kwargs,\n",
    "    client=bedrock_runtime,\n",
    ")"
   ]
  },
  {
   "cell_type": "code",
   "execution_count": null,
   "metadata": {
    "vscode": {
     "languageId": "plaintext"
    }
   },
   "outputs": [],
   "source": [
    "import uuid\n",
    "from langchain.memory.chat_message_histories import DynamoDBChatMessageHistory\n",
    "session_id = uuid.uuid4()\n",
    "chat_history = DynamoDBChatMessageHistory(table_name=table_name, session_id=session_id)\n",
    "memory = ConversationBufferMemory(\n",
    "    memory_key=\"history\",\n",
    "    chat_memory=chat_history,\n",
    "    ai_prefix=\"Assistant\",\n",
    "    human_prefix=\"Human\"\n",
    ")\n",
    "\n",
    "conversation = ConversationChain(\n",
    "    llm=chat, verbose=True, memory=memory\n",
    ")"
   ]
  },
  {
   "cell_type": "markdown",
   "metadata": {},
   "source": [
    "#### Query"
   ]
  },
  {
   "cell_type": "code",
   "execution_count": null,
   "metadata": {
    "vscode": {
     "languageId": "plaintext"
    }
   },
   "outputs": [],
   "source": [
    "conversation.predict(input=\"Hi there!\")\n",
    "conversation.predict(input=\"Can you explain why the grass is green?\")\n",
    "conversation.predict(input=\"Okay great, so what do you mean with the expression \"the grass is always greener on the other side\"?)\n",
    "\n",
    "memory.load_memory_variables({}) \n",
    "\n",
    "print(table.item_count)"
   ]
  }
 ],
 "metadata": {
  "language_info": {
   "name": "python"
  }
 },
 "nbformat": 4,
 "nbformat_minor": 2
}
